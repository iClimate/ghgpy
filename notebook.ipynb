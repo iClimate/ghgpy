{
 "cells": [
  {
   "cell_type": "code",
   "execution_count": 1,
   "metadata": {},
   "outputs": [],
   "source": [
    "# General factory \n",
    "from src.ghgpy.factory import FactoryGeneral\n",
    "# Fuels\n",
    "from src.ghgpy.datamodel.fuel import DefaultFuel, UNumber\n",
    "# Activities\n",
    "from src.ghgpy.activities.energy import Combustion\n",
    "from src.ghgpy.activities.ippu import RefrigerantUse\n",
    "\n",
    "# Database handles\n",
    "from src.ghgpy.datamodel.db import FuelDataHandle, GHGDataHandle, EFDataHandle\n",
    "# Default databases\n",
    "from src.ghgpy.data.fuels import default_fuel_database\n",
    "from src.ghgpy.data.ghg import ghg_gas_data\n",
    "from src.ghgpy.data.efs import s_combustion_energy"
   ]
  },
  {
   "cell_type": "code",
   "execution_count": 2,
   "metadata": {},
   "outputs": [],
   "source": [
    "# Init the factory class\n",
    "MyFactory = FactoryGeneral(name=\"Hong Ha Textile\", desc = \"Textile production for export!\")"
   ]
  },
  {
   "cell_type": "code",
   "execution_count": 3,
   "metadata": {},
   "outputs": [],
   "source": [
    "# Connect to the database\n",
    "MyFactory.connection(FuelDataHandle(default_fuel_database),\\\n",
    "             EFDataHandle(s_combustion_energy),\\\n",
    "                GHGDataHandle(ghg_gas_data, 'ar6'))"
   ]
  },
  {
   "cell_type": "code",
   "execution_count": 4,
   "metadata": {},
   "outputs": [
    {
     "data": {
      "text/plain": [
       "'Added Boiler to Hong Ha Textile'"
      ]
     },
     "execution_count": 4,
     "metadata": {},
     "output_type": "execute_result"
    }
   ],
   "source": [
    "# Init the combussion process in factory\n",
    "MyFactory.add_combustion(name = \"Boiler\", desc = \"Đốt lò hơi\")"
   ]
  },
  {
   "cell_type": "code",
   "execution_count": 5,
   "metadata": {},
   "outputs": [
    {
     "data": {
      "text/plain": [
       "'Added Boiler1 to Hong Ha Textile'"
      ]
     },
     "execution_count": 5,
     "metadata": {},
     "output_type": "execute_result"
    }
   ],
   "source": [
    "MyFactory.add_combustion(name = \"Boiler1\", desc = \"Đốt lò than bùn\")"
   ]
  },
  {
   "cell_type": "code",
   "execution_count": 6,
   "metadata": {},
   "outputs": [
    {
     "data": {
      "text/plain": [
       "'Added Diesel_Oil to Boiler'"
      ]
     },
     "execution_count": 6,
     "metadata": {},
     "output_type": "execute_result"
    }
   ],
   "source": [
    "MyFactory.combustion[\"Boiler\"].add('Diesel_Oil', UNumber(value=1000), 'l')"
   ]
  },
  {
   "cell_type": "code",
   "execution_count": 7,
   "metadata": {},
   "outputs": [
    {
     "data": {
      "text/plain": [
       "'Added Anthracite to Boiler'"
      ]
     },
     "execution_count": 7,
     "metadata": {},
     "output_type": "execute_result"
    }
   ],
   "source": [
    "MyFactory.combustion[\"Boiler\"].add('Anthracite', UNumber(value=1000), 'kg')"
   ]
  },
  {
   "cell_type": "code",
   "execution_count": 8,
   "metadata": {},
   "outputs": [
    {
     "data": {
      "text/plain": [
       "'Added Lignite to Boiler1'"
      ]
     },
     "execution_count": 8,
     "metadata": {},
     "output_type": "execute_result"
    }
   ],
   "source": [
    "MyFactory.combustion[\"Boiler1\"].add('Lignite', UNumber(value=1000), 'kg')"
   ]
  },
  {
   "cell_type": "code",
   "execution_count": 9,
   "metadata": {},
   "outputs": [
    {
     "data": {
      "text/plain": [
       "'Added AC to Hong Ha Textile'"
      ]
     },
     "execution_count": 9,
     "metadata": {},
     "output_type": "execute_result"
    }
   ],
   "source": [
    "MyFactory.add_refrigerantuse(name='AC', desc='refrigerant use for AC')"
   ]
  },
  {
   "cell_type": "code",
   "execution_count": 10,
   "metadata": {},
   "outputs": [
    {
     "data": {
      "text/plain": [
       "'Added R32 to AC'"
      ]
     },
     "execution_count": 10,
     "metadata": {},
     "output_type": "execute_result"
    }
   ],
   "source": [
    "MyFactory.refrigerantuse[\"AC\"].add(\"R32\", UNumber(value=10, uncertainty=0), 'kg')"
   ]
  },
  {
   "cell_type": "code",
   "execution_count": 11,
   "metadata": {},
   "outputs": [
    {
     "data": {
      "text/plain": [
       "'Added Office to Hong Ha Textile'"
      ]
     },
     "execution_count": 11,
     "metadata": {},
     "output_type": "execute_result"
    }
   ],
   "source": [
    "MyFactory.add_elecuse(name='Office')"
   ]
  },
  {
   "cell_type": "code",
   "execution_count": 16,
   "metadata": {},
   "outputs": [
    {
     "data": {
      "text/plain": [
       "'Added 01 to Office'"
      ]
     },
     "execution_count": 16,
     "metadata": {},
     "output_type": "execute_result"
    }
   ],
   "source": [
    "MyFactory.elecuse['Office'].add(name='01', amount=UNumber(value=1), unit='MWh', gef=UNumber(value=0.987), force=True)"
   ]
  },
  {
   "cell_type": "code",
   "execution_count": 17,
   "metadata": {},
   "outputs": [
    {
     "data": {
      "text/plain": [
       "ufloat(0.987, 0.000)"
      ]
     },
     "execution_count": 17,
     "metadata": {},
     "output_type": "execute_result"
    }
   ],
   "source": [
    "MyFactory.emission(scope=2)"
   ]
  },
  {
   "cell_type": "code",
   "execution_count": null,
   "metadata": {},
   "outputs": [],
   "source": []
  }
 ],
 "metadata": {
  "kernelspec": {
   "display_name": "Python 3",
   "language": "python",
   "name": "python3"
  },
  "language_info": {
   "codemirror_mode": {
    "name": "ipython",
    "version": 3
   },
   "file_extension": ".py",
   "mimetype": "text/x-python",
   "name": "python",
   "nbconvert_exporter": "python",
   "pygments_lexer": "ipython3",
   "version": "3.11.5"
  }
 },
 "nbformat": 4,
 "nbformat_minor": 2
}
