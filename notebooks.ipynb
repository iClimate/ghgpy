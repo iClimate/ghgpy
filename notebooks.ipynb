{
 "cells": [
  {
   "cell_type": "code",
   "execution_count": 1,
   "metadata": {},
   "outputs": [],
   "source": [
    "from src.ghgpy.datamodel.fuel import DefaultFuel, UNumber\n",
    "from src.ghgpy.datamodel.db import FuelDataHandle, GHGDataHandle, EFDataHandle\n",
    "from src.ghgpy.activities.energy import Combustion\n",
    "\n",
    "from src.ghgpy.data.fuels import default_fuel_database\n",
    "from src.ghgpy.data.ghg import ghg_gas_data\n",
    "from src.ghgpy.data.emissionfactors import s_combustion_general"
   ]
  },
  {
   "cell_type": "code",
   "execution_count": 2,
   "metadata": {},
   "outputs": [],
   "source": [
    "fuel1 = DefaultFuel(FuelDataHandle(default_fuel_database), 'DO', UNumber(value=1000), 'l')"
   ]
  },
  {
   "cell_type": "code",
   "execution_count": 3,
   "metadata": {},
   "outputs": [],
   "source": [
    "boiler = Combustion(name = \"coalfire\", desc = \"Đốt lò hơi\")"
   ]
  },
  {
   "cell_type": "code",
   "execution_count": 4,
   "metadata": {},
   "outputs": [
    {
     "data": {
      "text/plain": [
       "'Added DO'"
      ]
     },
     "execution_count": 4,
     "metadata": {},
     "output_type": "execute_result"
    }
   ],
   "source": [
    "boiler.add_fuel(fuel1, EFDataHandle(s_combustion_general))"
   ]
  },
  {
   "cell_type": "code",
   "execution_count": 5,
   "metadata": {},
   "outputs": [
    {
     "data": {
      "text/plain": [
       "[name='CO2', amount=ufloat(2.689, 0.000) tCO2e,\n",
       " name='CH4', amount=ufloat(0.003, 0.000) tCO2e,\n",
       " name='N2O', amount=ufloat(0.006, 0.000) tCO2e]"
      ]
     },
     "execution_count": 5,
     "metadata": {},
     "output_type": "execute_result"
    }
   ],
   "source": [
    "boiler.eval(GHGDataHandle(ghg_gas_data, 'ar6'))"
   ]
  },
  {
   "cell_type": "code",
   "execution_count": 12,
   "metadata": {},
   "outputs": [
    {
     "data": {
      "text/plain": [
       "ufloat(2.698, 0.000)"
      ]
     },
     "execution_count": 12,
     "metadata": {},
     "output_type": "execute_result"
    }
   ],
   "source": [
    "boiler.emission()"
   ]
  }
 ],
 "metadata": {
  "kernelspec": {
   "display_name": "Python 3",
   "language": "python",
   "name": "python3"
  },
  "language_info": {
   "codemirror_mode": {
    "name": "ipython",
    "version": 3
   },
   "file_extension": ".py",
   "mimetype": "text/x-python",
   "name": "python",
   "nbconvert_exporter": "python",
   "pygments_lexer": "ipython3",
   "version": "3.11.5"
  }
 },
 "nbformat": 4,
 "nbformat_minor": 2
}
