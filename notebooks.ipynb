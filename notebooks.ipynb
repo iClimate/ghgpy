{
 "cells": [
  {
   "cell_type": "code",
   "execution_count": 1,
   "metadata": {},
   "outputs": [],
   "source": [
    "from src.ghgpy.datamodel.fuel import DefaultFuel, BaseFuel, ufnum, FuelData, dict_to_fuel\n",
    "from src.ghgpy.datamodel.ghggas import GHGGas\n",
    "\n",
    "from src.ghgpy.data.fuels import default_fuel_database"
   ]
  },
  {
   "cell_type": "code",
   "execution_count": 2,
   "metadata": {},
   "outputs": [],
   "source": [
    "fuel0 = BaseFuel(\"H2\", \"Hydrogen\", ufnum(10), ufnum(10), ufnum(10), ufnum(20000, 2000), \"kg\")\n",
    "fuel1 = DefaultFuel(default_fuel_database, 'DO', ufnum(1000), 'l')"
   ]
  },
  {
   "cell_type": "code",
   "execution_count": 3,
   "metadata": {},
   "outputs": [
    {
     "data": {
      "text/plain": [
       "ufloat(74066.667, 1466.667)"
      ]
     },
     "execution_count": 3,
     "metadata": {},
     "output_type": "execute_result"
    }
   ],
   "source": [
    "(44/12)*fuel1.calc_cc()/fuel1.cal_energy()"
   ]
  },
  {
   "cell_type": "code",
   "execution_count": 4,
   "metadata": {},
   "outputs": [],
   "source": [
    "co2 = GHGGas('CO2', 100, \"kg\", \"Carbon dioxide\", 1, 12)"
   ]
  },
  {
   "cell_type": "code",
   "execution_count": 9,
   "metadata": {},
   "outputs": [],
   "source": [
    "def load_json(data: FuelData):\n",
    "    return data"
   ]
  }
 ],
 "metadata": {
  "kernelspec": {
   "display_name": "Python 3",
   "language": "python",
   "name": "python3"
  },
  "language_info": {
   "codemirror_mode": {
    "name": "ipython",
    "version": 3
   },
   "file_extension": ".py",
   "mimetype": "text/x-python",
   "name": "python",
   "nbconvert_exporter": "python",
   "pygments_lexer": "ipython3",
   "version": "3.11.5"
  }
 },
 "nbformat": 4,
 "nbformat_minor": 2
}
